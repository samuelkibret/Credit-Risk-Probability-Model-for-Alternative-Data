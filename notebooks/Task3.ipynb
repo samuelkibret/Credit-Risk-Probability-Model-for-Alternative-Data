{
 "cells": [
  {
   "cell_type": "code",
   "execution_count": 17,
   "id": "fd164647",
   "metadata": {},
   "outputs": [
    {
     "name": "stdout",
     "output_type": "stream",
     "text": [
      "Shape: (95662, 57)\n",
      "Features: ['CurrencyCode_UGX', 'CountryCode_256', 'ProviderId_ProviderId_1', 'ProviderId_ProviderId_2', 'ProviderId_ProviderId_3', 'ProviderId_ProviderId_4', 'ProviderId_ProviderId_5', 'ProviderId_ProviderId_6', 'ProductId_ProductId_1', 'ProductId_ProductId_10']\n"
     ]
    }
   ],
   "source": [
    "# task3.ipynb\n",
    "import sys\n",
    "import os\n",
    "import pandas as pd\n",
    "import numpy as np\n",
    "from scipy import sparse\n",
    "sys.path.append(os.path.abspath(os.path.join(os.getcwd(), \"..\")))\n",
    "\n",
    "from src.feature_engineering import run_feature_engineering\n",
    "\n",
    "# Load your dataset\n",
    "df = pd.read_csv(\"../data/processed/df_with_proxy.csv\") \n",
    "\n",
    "y = df['is_high_risk']\n",
    "\n",
    "# Run feature engineering\n",
    "X_transformed, feature_names, enriched_df = run_feature_engineering(df)\n",
    "\n",
    "# Show transformed shape or preview\n",
    "print(\"Shape:\", X_transformed.shape)\n",
    "print(\"Features:\", feature_names[:10])  # first few features\n",
    "\n",
    "# Now ready for model training\n",
    "enriched_df.head()\n",
    "# Save numeric features\n",
    "sparse.save_npz(\"../data/processed/X_transformed.npz\", X_transformed)\n",
    "# Save target\n",
    "np.save(\"../data/processed/y_transformed.npy\", y.values)\n"
   ]
  }
 ],
 "metadata": {
  "kernelspec": {
   "display_name": "venv5",
   "language": "python",
   "name": "python3"
  },
  "language_info": {
   "codemirror_mode": {
    "name": "ipython",
    "version": 3
   },
   "file_extension": ".py",
   "mimetype": "text/x-python",
   "name": "python",
   "nbconvert_exporter": "python",
   "pygments_lexer": "ipython3",
   "version": "3.13.3"
  }
 },
 "nbformat": 4,
 "nbformat_minor": 5
}
